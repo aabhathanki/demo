{
 "cells": [
  {
   "cell_type": "markdown",
   "id": "9b8d0a7a",
   "metadata": {
    "papermill": {
     "duration": 0.0049,
     "end_time": "2023-09-04T12:03:27.959317",
     "exception": false,
     "start_time": "2023-09-04T12:03:27.954417",
     "status": "completed"
    },
    "tags": []
   },
   "source": [
    "To split an array of 14 elements into 3 arrays, each with 2, 4, and 8 \n",
    "elements in the original order"
   ]
  },
  {
   "cell_type": "code",
   "execution_count": 1,
   "id": "3b16a3f2",
   "metadata": {
    "execution": {
     "iopub.execute_input": "2023-09-04T12:03:27.970358Z",
     "iopub.status.busy": "2023-09-04T12:03:27.969287Z",
     "iopub.status.idle": "2023-09-04T12:03:27.986915Z",
     "shell.execute_reply": "2023-09-04T12:03:27.985239Z"
    },
    "papermill": {
     "duration": 0.026045,
     "end_time": "2023-09-04T12:03:27.989519",
     "exception": false,
     "start_time": "2023-09-04T12:03:27.963474",
     "status": "completed"
    },
    "tags": []
   },
   "outputs": [
    {
     "name": "stdout",
     "output_type": "stream",
     "text": [
      "[1 2] [ 3 99 99  3] [2 1 6 7 4 5 8 4]\n"
     ]
    }
   ],
   "source": [
    "import numpy as np\n",
    "x = np.array([1,2,3,99,99,3,2,1,6,7,4,5,8,4])\n",
    "x1, x2, x3 = np.split(x, [2,6])\n",
    "print(x1, x2, x3)"
   ]
  },
  {
   "cell_type": "markdown",
   "id": "7226ed5e",
   "metadata": {
    "papermill": {
     "duration": 0.003752,
     "end_time": "2023-09-04T12:03:27.997522",
     "exception": false,
     "start_time": "2023-09-04T12:03:27.993770",
     "status": "completed"
    },
    "tags": []
   },
   "source": [
    "To stack arrays horizontally (column wise)"
   ]
  },
  {
   "cell_type": "code",
   "execution_count": 2,
   "id": "cb448255",
   "metadata": {
    "execution": {
     "iopub.execute_input": "2023-09-04T12:03:28.009794Z",
     "iopub.status.busy": "2023-09-04T12:03:28.009288Z",
     "iopub.status.idle": "2023-09-04T12:03:28.019035Z",
     "shell.execute_reply": "2023-09-04T12:03:28.017259Z"
    },
    "papermill": {
     "duration": 0.020546,
     "end_time": "2023-09-04T12:03:28.022088",
     "exception": false,
     "start_time": "2023-09-04T12:03:28.001542",
     "status": "completed"
    },
    "tags": []
   },
   "outputs": [
    {
     "name": "stdout",
     "output_type": "stream",
     "text": [
      "Output stacked array :\n",
      "  [ 3  8 10 13  8 13  7 13  1  7]\n"
     ]
    }
   ],
   "source": [
    "import numpy as np\n",
    "a=np.random.randint(1,15,4)\n",
    "b=np.random.randint(1,15,6)\n",
    "\n",
    "# Stacking the two arrays horizontally\n",
    "c = np.hstack((a,b))\n",
    "print (\"Output stacked array :\\n \",c)"
   ]
  }
 ],
 "kernelspec": {
  "display_name": "Python 3",
  "language": "python",
  "name": "python3"
 },
 "language_info": {
  "codemirror_mode": {
   "name": "ipython",
   "version": 3
  },
  "file_extension": ".py",
  "mimetype": "text/x-python",
  "name": "python",
  "nbconvert_exporter": "python",
  "pygments_lexer": "ipython3",
  "version": "3.6.4"
 },
 "metadata": {
  "kernelspec": {
   "display_name": "Python 3",
   "language": "python",
   "name": "python3"
  },
  "language_info": {
   "codemirror_mode": {
    "name": "ipython",
    "version": 3
   },
   "file_extension": ".py",
   "mimetype": "text/x-python",
   "name": "python",
   "nbconvert_exporter": "python",
   "pygments_lexer": "ipython3",
   "version": "3.10.12"
  },
  "papermill": {
   "default_parameters": {},
   "duration": 4.261039,
   "end_time": "2023-09-04T12:03:28.447548",
   "environment_variables": {},
   "exception": null,
   "input_path": "__notebook__.ipynb",
   "output_path": "__notebook__.ipynb",
   "parameters": {},
   "start_time": "2023-09-04T12:03:24.186509",
   "version": "2.4.0"
  }
 },
 "nbformat": 4,
 "nbformat_minor": 5
}
