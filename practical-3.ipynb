{
 "cells": [
  {
   "cell_type": "markdown",
   "id": "c92eebd4",
   "metadata": {
    "papermill": {
     "duration": 0.003648,
     "end_time": "2023-09-04T12:13:10.650056",
     "exception": false,
     "start_time": "2023-09-04T12:13:10.646408",
     "status": "completed"
    },
    "tags": []
   },
   "source": [
    "To split an array of 14 elements into 3 arrays, each with 2, 4, and 8 \n",
    "elements in the original order"
   ]
  },
  {
   "cell_type": "code",
   "execution_count": 1,
   "id": "fe84b4e4",
   "metadata": {
    "execution": {
     "iopub.execute_input": "2023-09-04T12:13:10.658778Z",
     "iopub.status.busy": "2023-09-04T12:13:10.658146Z",
     "iopub.status.idle": "2023-09-04T12:13:10.671522Z",
     "shell.execute_reply": "2023-09-04T12:13:10.670410Z"
    },
    "papermill": {
     "duration": 0.021332,
     "end_time": "2023-09-04T12:13:10.674695",
     "exception": false,
     "start_time": "2023-09-04T12:13:10.653363",
     "status": "completed"
    },
    "tags": []
   },
   "outputs": [
    {
     "name": "stdout",
     "output_type": "stream",
     "text": [
      "[1 2] [ 3 99 99  3] [2 1 6 7 4 5 8 4]\n"
     ]
    }
   ],
   "source": [
    "import numpy as np\n",
    "x = np.array([1,2,3,99,99,3,2,1,6,7,4,5,8,4])\n",
    "x1, x2, x3 = np.split(x, [2,6])\n",
    "print(x1, x2, x3)"
   ]
  },
  {
   "cell_type": "markdown",
   "id": "2a6e2fd6",
   "metadata": {
    "papermill": {
     "duration": 0.003053,
     "end_time": "2023-09-04T12:13:10.681287",
     "exception": false,
     "start_time": "2023-09-04T12:13:10.678234",
     "status": "completed"
    },
    "tags": []
   },
   "source": [
    "To stack arrays horizontally (column wise)"
   ]
  },
  {
   "cell_type": "code",
   "execution_count": 2,
   "id": "7e5f45e8",
   "metadata": {
    "execution": {
     "iopub.execute_input": "2023-09-04T12:13:10.689787Z",
     "iopub.status.busy": "2023-09-04T12:13:10.689162Z",
     "iopub.status.idle": "2023-09-04T12:13:10.697627Z",
     "shell.execute_reply": "2023-09-04T12:13:10.696207Z"
    },
    "papermill": {
     "duration": 0.016067,
     "end_time": "2023-09-04T12:13:10.700516",
     "exception": false,
     "start_time": "2023-09-04T12:13:10.684449",
     "status": "completed"
    },
    "tags": []
   },
   "outputs": [
    {
     "name": "stdout",
     "output_type": "stream",
     "text": [
      "Output stacked array :\n",
      "  [ 9  7  6 13  3  7 10 12  3 11]\n"
     ]
    }
   ],
   "source": [
    "import numpy as np\n",
    "a=np.random.randint(1,15,4)\n",
    "b=np.random.randint(1,15,6)\n",
    "\n",
    "# Stacking the two arrays horizontally\n",
    "c = np.hstack((a,b))\n",
    "print (\"Output stacked array :\\n \",c)"
   ]
  }
 ],
 "kernelspec": {
  "display_name": "Python 3",
  "language": "python",
  "name": "python3"
 },
 "language_info": {
  "codemirror_mode": {
   "name": "ipython",
   "version": 3
  },
  "file_extension": ".py",
  "mimetype": "text/x-python",
  "name": "python",
  "nbconvert_exporter": "python",
  "pygments_lexer": "ipython3",
  "version": "3.6.4"
 },
 "metadata": {
  "kernelspec": {
   "display_name": "Python 3",
   "language": "python",
   "name": "python3"
  },
  "language_info": {
   "codemirror_mode": {
    "name": "ipython",
    "version": 3
   },
   "file_extension": ".py",
   "mimetype": "text/x-python",
   "name": "python",
   "nbconvert_exporter": "python",
   "pygments_lexer": "ipython3",
   "version": "3.10.12"
  },
  "papermill": {
   "default_parameters": {},
   "duration": 3.715995,
   "end_time": "2023-09-04T12:13:11.126926",
   "environment_variables": {},
   "exception": null,
   "input_path": "__notebook__.ipynb",
   "output_path": "__notebook__.ipynb",
   "parameters": {},
   "start_time": "2023-09-04T12:13:07.410931",
   "version": "2.4.0"
  }
 },
 "nbformat": 4,
 "nbformat_minor": 5
}
