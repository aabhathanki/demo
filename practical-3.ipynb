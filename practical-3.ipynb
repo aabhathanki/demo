{
 "cells": [
  {
   "cell_type": "code",
   "execution_count": 1,
   "id": "537e357a",
   "metadata": {
    "execution": {
     "iopub.execute_input": "2023-09-08T15:33:22.058443Z",
     "iopub.status.busy": "2023-09-08T15:33:22.058107Z",
     "iopub.status.idle": "2023-09-08T15:33:22.068003Z",
     "shell.execute_reply": "2023-09-08T15:33:22.066954Z"
    },
    "papermill": {
     "duration": 0.017498,
     "end_time": "2023-09-08T15:33:22.070345",
     "exception": false,
     "start_time": "2023-09-08T15:33:22.052847",
     "status": "completed"
    },
    "tags": []
   },
   "outputs": [],
   "source": [
    "import numpy as np"
   ]
  },
  {
   "cell_type": "markdown",
   "id": "3d571b75",
   "metadata": {
    "papermill": {
     "duration": 0.002676,
     "end_time": "2023-09-08T15:33:22.076384",
     "exception": false,
     "start_time": "2023-09-08T15:33:22.073708",
     "status": "completed"
    },
    "tags": []
   },
   "source": [
    "# To split an array of 14 elements into 3 arrays, each with 2, 4, and 8 elements in the original order"
   ]
  },
  {
   "cell_type": "code",
   "execution_count": 2,
   "id": "ce7d1652",
   "metadata": {
    "execution": {
     "iopub.execute_input": "2023-09-08T15:33:22.083650Z",
     "iopub.status.busy": "2023-09-08T15:33:22.083065Z",
     "iopub.status.idle": "2023-09-08T15:33:22.089880Z",
     "shell.execute_reply": "2023-09-08T15:33:22.089273Z"
    },
    "papermill": {
     "duration": 0.012419,
     "end_time": "2023-09-08T15:33:22.091575",
     "exception": false,
     "start_time": "2023-09-08T15:33:22.079156",
     "status": "completed"
    },
    "tags": []
   },
   "outputs": [
    {
     "name": "stdout",
     "output_type": "stream",
     "text": [
      "[1 2] [ 3 99 99  3] [2 1 6 7 4 5 8 4]\n"
     ]
    }
   ],
   "source": [
    "x = np.array([1,2,3,99,99,3,2,1,6,7,4,5,8,4])\n",
    "x1, x2, x3 = np.split(x, [2,6])\n",
    "print(x1, x2, x3)"
   ]
  },
  {
   "cell_type": "markdown",
   "id": "602a8d89",
   "metadata": {
    "papermill": {
     "duration": 0.002622,
     "end_time": "2023-09-08T15:33:22.097469",
     "exception": false,
     "start_time": "2023-09-08T15:33:22.094847",
     "status": "completed"
    },
    "tags": []
   },
   "source": [
    "# To stack arrays horizontally (column wise)"
   ]
  },
  {
   "cell_type": "code",
   "execution_count": 3,
   "id": "160c290f",
   "metadata": {
    "execution": {
     "iopub.execute_input": "2023-09-08T15:33:22.105140Z",
     "iopub.status.busy": "2023-09-08T15:33:22.104484Z",
     "iopub.status.idle": "2023-09-08T15:33:22.112813Z",
     "shell.execute_reply": "2023-09-08T15:33:22.111769Z"
    },
    "papermill": {
     "duration": 0.014282,
     "end_time": "2023-09-08T15:33:22.114641",
     "exception": false,
     "start_time": "2023-09-08T15:33:22.100359",
     "status": "completed"
    },
    "tags": []
   },
   "outputs": [
    {
     "name": "stdout",
     "output_type": "stream",
     "text": [
      "Output stacked array :\n",
      "  [11 12  5 11 13  7  8 13  8  3]\n"
     ]
    }
   ],
   "source": [
    "a=np.random.randint(1,15,4)\n",
    "b=np.random.randint(1,15,6)\n",
    "\n",
    "# Stacking the two arrays horizontally\n",
    "c = np.hstack((a,b))\n",
    "print (\"Output stacked array :\\n \",c)"
   ]
  }
 ],
 "kernelspec": {
  "display_name": "Python 3",
  "language": "python",
  "name": "python3"
 },
 "language_info": {
  "codemirror_mode": {
   "name": "ipython",
   "version": 3
  },
  "file_extension": ".py",
  "mimetype": "text/x-python",
  "name": "python",
  "nbconvert_exporter": "python",
  "pygments_lexer": "ipython3",
  "version": "3.6.4"
 },
 "metadata": {
  "kernelspec": {
   "display_name": "Python 3",
   "language": "python",
   "name": "python3"
  },
  "language_info": {
   "codemirror_mode": {
    "name": "ipython",
    "version": 3
   },
   "file_extension": ".py",
   "mimetype": "text/x-python",
   "name": "python",
   "nbconvert_exporter": "python",
   "pygments_lexer": "ipython3",
   "version": "3.10.12"
  },
  "papermill": {
   "default_parameters": {},
   "duration": 3.372299,
   "end_time": "2023-09-08T15:33:22.436397",
   "environment_variables": {},
   "exception": null,
   "input_path": "__notebook__.ipynb",
   "output_path": "__notebook__.ipynb",
   "parameters": {},
   "start_time": "2023-09-08T15:33:19.064098",
   "version": "2.4.0"
  }
 },
 "nbformat": 4,
 "nbformat_minor": 5
}
