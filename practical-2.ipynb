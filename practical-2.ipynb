{
 "cells": [
  {
   "cell_type": "markdown",
   "id": "5caf8b54",
   "metadata": {
    "_cell_guid": "b1076dfc-b9ad-4769-8c92-a6c4dae69d19",
    "_uuid": "8f2839f25d086af736a60e9eeb907d3b93b6e0e5",
    "execution": {
     "iopub.execute_input": "2023-07-28T05:24:41.997593Z",
     "iopub.status.busy": "2023-07-28T05:24:41.997061Z",
     "iopub.status.idle": "2023-07-28T05:24:42.005310Z",
     "shell.execute_reply": "2023-07-28T05:24:42.003869Z",
     "shell.execute_reply.started": "2023-07-28T05:24:41.997549Z"
    },
    "papermill": {
     "duration": 0.004156,
     "end_time": "2023-09-04T11:46:03.406569",
     "exception": false,
     "start_time": "2023-09-04T11:46:03.402413",
     "status": "completed"
    },
    "tags": []
   },
   "source": [
    "To convert a list of numeric values into a one-dimensional NumPy array\n"
   ]
  },
  {
   "cell_type": "code",
   "execution_count": 1,
   "id": "3fa94b72",
   "metadata": {
    "execution": {
     "iopub.execute_input": "2023-09-04T11:46:03.415710Z",
     "iopub.status.busy": "2023-09-04T11:46:03.414997Z",
     "iopub.status.idle": "2023-09-04T11:46:03.427508Z",
     "shell.execute_reply": "2023-09-04T11:46:03.426665Z"
    },
    "papermill": {
     "duration": 0.019206,
     "end_time": "2023-09-04T11:46:03.429319",
     "exception": false,
     "start_time": "2023-09-04T11:46:03.410113",
     "status": "completed"
    },
    "tags": []
   },
   "outputs": [
    {
     "name": "stdout",
     "output_type": "stream",
     "text": [
      "[1 2 3 4 5]\n"
     ]
    }
   ],
   "source": [
    "import numpy as np\n",
    "\n",
    "# Your list of numeric values\n",
    "list = [1, 2, 3, 4, 5]\n",
    "\n",
    "# Convert the list to a NumPy array\n",
    "Array = np.array(list)\n",
    "\n",
    "# Print the resulting NumPy array\n",
    "print(Array)\n"
   ]
  },
  {
   "cell_type": "markdown",
   "id": "29c0e727",
   "metadata": {
    "papermill": {
     "duration": 0.003404,
     "end_time": "2023-09-04T11:46:03.436166",
     "exception": false,
     "start_time": "2023-09-04T11:46:03.432762",
     "status": "completed"
    },
    "tags": []
   },
   "source": [
    "To create a 33 matrix with values ranging from 2 to 10"
   ]
  },
  {
   "cell_type": "code",
   "execution_count": 2,
   "id": "b634463d",
   "metadata": {
    "execution": {
     "iopub.execute_input": "2023-09-04T11:46:03.444978Z",
     "iopub.status.busy": "2023-09-04T11:46:03.444388Z",
     "iopub.status.idle": "2023-09-04T11:46:03.449556Z",
     "shell.execute_reply": "2023-09-04T11:46:03.448472Z"
    },
    "papermill": {
     "duration": 0.011795,
     "end_time": "2023-09-04T11:46:03.451367",
     "exception": false,
     "start_time": "2023-09-04T11:46:03.439572",
     "status": "completed"
    },
    "tags": []
   },
   "outputs": [
    {
     "name": "stdout",
     "output_type": "stream",
     "text": [
      "[[ 2  3  4]\n",
      " [ 5  6  7]\n",
      " [ 8  9 10]]\n"
     ]
    }
   ],
   "source": [
    "import numpy as np\n",
    "\n",
    "# Create a 1-dim array of values ranging from 2 to 10\n",
    "values = np.arange(2, 11)\n",
    "\n",
    "# Reshape the 1-dim array into a 3x3 matrix\n",
    "matrix = values.reshape(3,3)\n",
    "\n",
    "# Print the resulting matrix\n",
    "print(matrix)"
   ]
  },
  {
   "cell_type": "markdown",
   "id": "a3e28323",
   "metadata": {
    "papermill": {
     "duration": 0.003241,
     "end_time": "2023-09-04T11:46:03.458275",
     "exception": false,
     "start_time": "2023-09-04T11:46:03.455034",
     "status": "completed"
    },
    "tags": []
   },
   "source": [
    "To append values at the end of an array"
   ]
  },
  {
   "cell_type": "code",
   "execution_count": 3,
   "id": "72b024eb",
   "metadata": {
    "execution": {
     "iopub.execute_input": "2023-09-04T11:46:03.467240Z",
     "iopub.status.busy": "2023-09-04T11:46:03.466606Z",
     "iopub.status.idle": "2023-09-04T11:46:03.476239Z",
     "shell.execute_reply": "2023-09-04T11:46:03.474719Z"
    },
    "papermill": {
     "duration": 0.016608,
     "end_time": "2023-09-04T11:46:03.478398",
     "exception": false,
     "start_time": "2023-09-04T11:46:03.461790",
     "status": "completed"
    },
    "tags": []
   },
   "outputs": [
    {
     "name": "stdout",
     "output_type": "stream",
     "text": [
      "[10, 20, 30]\n",
      "After append values to the end of the array:\n",
      "[10 20 30  1]\n",
      "2 dim\n",
      "[[1 2 3]\n",
      " [4 5 6]\n",
      " [7 8 9]]\n",
      "[[12 18 13]\n",
      " [13 19 20]\n",
      " [18 20 13]]\n",
      "[[ 1  2  3]\n",
      " [ 4  5  6]\n",
      " [ 7  8  9]\n",
      " [12 18 13]\n",
      " [13 19 20]\n",
      " [18 20 13]]\n"
     ]
    }
   ],
   "source": [
    "import numpy as np\n",
    "# 1 dim append\n",
    "x = [10, 20, 30]\n",
    "print(x)\n",
    "\n",
    "#To append values at the end of an array\n",
    "x = np.append(x,np.random.randint(0, 10),)\n",
    "print(\"After append values to the end of the array:\")\n",
    "print(x)\n",
    "\n",
    "#2 dim append\n",
    "print(\"2 dim\")\n",
    "original_array = np.array([[1,2,3],[4,5,6],[7,8,9]])\n",
    "print(original_array)\n",
    "ran=np.random.randint(11, 21,(3, 3))\n",
    "print(ran)\n",
    "y = np.append(original_array,ran,axis=0)\n",
    "# Print the resulting \n",
    "\n",
    "print(y)"
   ]
  },
  {
   "cell_type": "markdown",
   "id": "e7191e1f",
   "metadata": {
    "papermill": {
     "duration": 0.00369,
     "end_time": "2023-09-04T11:46:03.486766",
     "exception": false,
     "start_time": "2023-09-04T11:46:03.483076",
     "status": "completed"
    },
    "tags": []
   },
   "source": [
    "To create another shape from an array without changing its data(3*2 \n",
    "to 2*3) "
   ]
  },
  {
   "cell_type": "code",
   "execution_count": 4,
   "id": "9cc2f141",
   "metadata": {
    "execution": {
     "iopub.execute_input": "2023-09-04T11:46:03.496198Z",
     "iopub.status.busy": "2023-09-04T11:46:03.495031Z",
     "iopub.status.idle": "2023-09-04T11:46:03.501740Z",
     "shell.execute_reply": "2023-09-04T11:46:03.500446Z"
    },
    "papermill": {
     "duration": 0.013895,
     "end_time": "2023-09-04T11:46:03.504134",
     "exception": false,
     "start_time": "2023-09-04T11:46:03.490239",
     "status": "completed"
    },
    "tags": []
   },
   "outputs": [
    {
     "name": "stdout",
     "output_type": "stream",
     "text": [
      "Original array:\n",
      "[[ 8 16]\n",
      " [15 18]\n",
      " [ 5  5]]\n",
      "\n",
      "Reshaped array:\n",
      "[[ 8 16 15]\n",
      " [18  5  5]]\n"
     ]
    }
   ],
   "source": [
    "import numpy as np\n",
    "\n",
    "# Create a 3x2 array\n",
    "original_array =np.random.randint(0, 21,(3, 2))\n",
    "\n",
    "# Reshape the array to 2x3\n",
    "reshaped_array = original_array.reshape(2, 3)\n",
    "\n",
    "# Print the original and reshaped arrays\n",
    "print(\"Original array:\")\n",
    "print(original_array)\n",
    "print(\"\\nReshaped array:\")\n",
    "print(reshaped_array)"
   ]
  }
 ],
 "kernelspec": {
  "display_name": "Python 3",
  "language": "python",
  "name": "python3"
 },
 "language_info": {
  "codemirror_mode": {
   "name": "ipython",
   "version": 3
  },
  "file_extension": ".py",
  "mimetype": "text/x-python",
  "name": "python",
  "nbconvert_exporter": "python",
  "pygments_lexer": "ipython3",
  "version": "3.6.4"
 },
 "metadata": {
  "kernelspec": {
   "display_name": "Python 3",
   "language": "python",
   "name": "python3"
  },
  "language_info": {
   "codemirror_mode": {
    "name": "ipython",
    "version": 3
   },
   "file_extension": ".py",
   "mimetype": "text/x-python",
   "name": "python",
   "nbconvert_exporter": "python",
   "pygments_lexer": "ipython3",
   "version": "3.10.12"
  },
  "papermill": {
   "default_parameters": {},
   "duration": 10.356668,
   "end_time": "2023-09-04T11:46:04.329248",
   "environment_variables": {},
   "exception": null,
   "input_path": "__notebook__.ipynb",
   "output_path": "__notebook__.ipynb",
   "parameters": {},
   "start_time": "2023-09-04T11:45:53.972580",
   "version": "2.4.0"
  }
 },
 "nbformat": 4,
 "nbformat_minor": 5
}
