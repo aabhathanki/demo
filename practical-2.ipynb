{
 "cells": [
  {
   "cell_type": "code",
   "execution_count": 1,
   "id": "d3d975bf",
   "metadata": {
    "execution": {
     "iopub.execute_input": "2023-09-08T15:38:36.921214Z",
     "iopub.status.busy": "2023-09-08T15:38:36.920336Z",
     "iopub.status.idle": "2023-09-08T15:38:36.929952Z",
     "shell.execute_reply": "2023-09-08T15:38:36.929064Z"
    },
    "papermill": {
     "duration": 0.020099,
     "end_time": "2023-09-08T15:38:36.932176",
     "exception": false,
     "start_time": "2023-09-08T15:38:36.912077",
     "status": "completed"
    },
    "tags": []
   },
   "outputs": [],
   "source": [
    "import numpy as np"
   ]
  },
  {
   "cell_type": "markdown",
   "id": "12f47b12",
   "metadata": {
    "papermill": {
     "duration": 0.004438,
     "end_time": "2023-09-08T15:38:36.941275",
     "exception": false,
     "start_time": "2023-09-08T15:38:36.936837",
     "status": "completed"
    },
    "tags": []
   },
   "source": [
    "# To convert a list of numeric values into a one-dimensional NumPy array\n"
   ]
  },
  {
   "cell_type": "code",
   "execution_count": 2,
   "id": "65b4edd1",
   "metadata": {
    "execution": {
     "iopub.execute_input": "2023-09-08T15:38:36.952141Z",
     "iopub.status.busy": "2023-09-08T15:38:36.951680Z",
     "iopub.status.idle": "2023-09-08T15:38:36.960605Z",
     "shell.execute_reply": "2023-09-08T15:38:36.959219Z"
    },
    "papermill": {
     "duration": 0.017664,
     "end_time": "2023-09-08T15:38:36.963254",
     "exception": false,
     "start_time": "2023-09-08T15:38:36.945590",
     "status": "completed"
    },
    "tags": []
   },
   "outputs": [
    {
     "name": "stdout",
     "output_type": "stream",
     "text": [
      "[1 2 3 4 5]\n"
     ]
    }
   ],
   "source": [
    "# Your list of numeric values\n",
    "list = [1, 2, 3, 4, 5]\n",
    "\n",
    "# Convert the list to a NumPy array\n",
    "Array = np.array(list)\n",
    "\n",
    "# Print the resulting NumPy array\n",
    "print(Array)"
   ]
  },
  {
   "cell_type": "markdown",
   "id": "6961cbb5",
   "metadata": {
    "papermill": {
     "duration": 0.004222,
     "end_time": "2023-09-08T15:38:36.972062",
     "exception": false,
     "start_time": "2023-09-08T15:38:36.967840",
     "status": "completed"
    },
    "tags": []
   },
   "source": [
    "# To create a 3x3 matrix with values ranging from 2 to 10"
   ]
  },
  {
   "cell_type": "code",
   "execution_count": 3,
   "id": "82fd02ab",
   "metadata": {
    "execution": {
     "iopub.execute_input": "2023-09-08T15:38:36.983389Z",
     "iopub.status.busy": "2023-09-08T15:38:36.982885Z",
     "iopub.status.idle": "2023-09-08T15:38:36.990475Z",
     "shell.execute_reply": "2023-09-08T15:38:36.988978Z"
    },
    "papermill": {
     "duration": 0.015955,
     "end_time": "2023-09-08T15:38:36.992774",
     "exception": false,
     "start_time": "2023-09-08T15:38:36.976819",
     "status": "completed"
    },
    "tags": []
   },
   "outputs": [
    {
     "name": "stdout",
     "output_type": "stream",
     "text": [
      "[[ 2  3  4]\n",
      " [ 5  6  7]\n",
      " [ 8  9 10]]\n"
     ]
    }
   ],
   "source": [
    "# Create a 1-dim array of values ranging from 2 to 10\n",
    "values = np.arange(2, 11)\n",
    "\n",
    "# Reshape the 1-dim array into a 3x3 matrix\n",
    "matrix = values.reshape(3,3)\n",
    "\n",
    "# Print the resulting matrix\n",
    "print(matrix)"
   ]
  },
  {
   "cell_type": "markdown",
   "id": "2e498f58",
   "metadata": {
    "papermill": {
     "duration": 0.004175,
     "end_time": "2023-09-08T15:38:37.001438",
     "exception": false,
     "start_time": "2023-09-08T15:38:36.997263",
     "status": "completed"
    },
    "tags": []
   },
   "source": [
    "# To append values at the end of an array"
   ]
  },
  {
   "cell_type": "code",
   "execution_count": 4,
   "id": "4055eb8c",
   "metadata": {
    "execution": {
     "iopub.execute_input": "2023-09-08T15:38:37.012368Z",
     "iopub.status.busy": "2023-09-08T15:38:37.011849Z",
     "iopub.status.idle": "2023-09-08T15:38:37.018985Z",
     "shell.execute_reply": "2023-09-08T15:38:37.017564Z"
    },
    "papermill": {
     "duration": 0.015703,
     "end_time": "2023-09-08T15:38:37.021516",
     "exception": false,
     "start_time": "2023-09-08T15:38:37.005813",
     "status": "completed"
    },
    "tags": []
   },
   "outputs": [
    {
     "name": "stdout",
     "output_type": "stream",
     "text": [
      "[10, 20, 30]\n",
      "After append values to the end of the array:\n",
      "[10 20 30  0]\n"
     ]
    }
   ],
   "source": [
    "# 1 dim append\n",
    "x = [10, 20, 30]\n",
    "print(x)\n",
    "\n",
    "#To append values at the end of an array\n",
    "x = np.append(x,np.random.randint(0, 10),)\n",
    "print(\"After append values to the end of the array:\")\n",
    "print(x)"
   ]
  },
  {
   "cell_type": "code",
   "execution_count": 5,
   "id": "f85e73a7",
   "metadata": {
    "execution": {
     "iopub.execute_input": "2023-09-08T15:38:37.033228Z",
     "iopub.status.busy": "2023-09-08T15:38:37.032736Z",
     "iopub.status.idle": "2023-09-08T15:38:37.043594Z",
     "shell.execute_reply": "2023-09-08T15:38:37.041991Z"
    },
    "papermill": {
     "duration": 0.020448,
     "end_time": "2023-09-08T15:38:37.046407",
     "exception": false,
     "start_time": "2023-09-08T15:38:37.025959",
     "status": "completed"
    },
    "tags": []
   },
   "outputs": [
    {
     "name": "stdout",
     "output_type": "stream",
     "text": [
      "[[1 2 3]\n",
      " [4 5 6]\n",
      " [7 8 9]]\n",
      "\n",
      "\n",
      "[[17 12 19]\n",
      " [18 17 12]\n",
      " [14 14 18]]\n",
      "\n",
      "\n",
      "[[ 1  2  3]\n",
      " [ 4  5  6]\n",
      " [ 7  8  9]\n",
      " [17 12 19]\n",
      " [18 17 12]\n",
      " [14 14 18]]\n"
     ]
    }
   ],
   "source": [
    "#2 dim append\n",
    "original_array = np.array([[1,2,3],[4,5,6],[7,8,9]])\n",
    "print(original_array)\n",
    "print(\"\\n\")\n",
    "\n",
    "ran=np.random.randint(11, 21,(3, 3))\n",
    "print(ran)\n",
    "print(\"\\n\")\n",
    "\n",
    "y = np.append(original_array,ran,axis=0)\n",
    "# Print the resulting \n",
    "print(y)"
   ]
  },
  {
   "cell_type": "markdown",
   "id": "1a5df2c7",
   "metadata": {
    "papermill": {
     "duration": 0.004388,
     "end_time": "2023-09-08T15:38:37.055437",
     "exception": false,
     "start_time": "2023-09-08T15:38:37.051049",
     "status": "completed"
    },
    "tags": []
   },
   "source": [
    "# To create another shape from an array without changing its data(3x2 to 2x3) "
   ]
  },
  {
   "cell_type": "code",
   "execution_count": 6,
   "id": "1fa1ddcb",
   "metadata": {
    "execution": {
     "iopub.execute_input": "2023-09-08T15:38:37.066763Z",
     "iopub.status.busy": "2023-09-08T15:38:37.066337Z",
     "iopub.status.idle": "2023-09-08T15:38:37.073841Z",
     "shell.execute_reply": "2023-09-08T15:38:37.072295Z"
    },
    "papermill": {
     "duration": 0.016099,
     "end_time": "2023-09-08T15:38:37.076244",
     "exception": false,
     "start_time": "2023-09-08T15:38:37.060145",
     "status": "completed"
    },
    "tags": []
   },
   "outputs": [
    {
     "name": "stdout",
     "output_type": "stream",
     "text": [
      "Original array:\n",
      "[[ 5 10]\n",
      " [ 7 19]\n",
      " [ 6 13]]\n",
      "\n",
      "Reshaped array:\n",
      "[[ 5 10  7]\n",
      " [19  6 13]]\n"
     ]
    }
   ],
   "source": [
    "import numpy as np\n",
    "\n",
    "# Create a 3x2 array\n",
    "original_array =np.random.randint(0, 21,(3, 2))\n",
    "\n",
    "# Reshape the array to 2x3\n",
    "reshaped_array = original_array.reshape(2, 3)\n",
    "\n",
    "# Print the original and reshaped arrays\n",
    "print(\"Original array:\")\n",
    "print(original_array)\n",
    "print(\"\\nReshaped array:\")\n",
    "print(reshaped_array)"
   ]
  }
 ],
 "kernelspec": {
  "display_name": "Python 3",
  "language": "python",
  "name": "python3"
 },
 "language_info": {
  "codemirror_mode": {
   "name": "ipython",
   "version": 3
  },
  "file_extension": ".py",
  "mimetype": "text/x-python",
  "name": "python",
  "nbconvert_exporter": "python",
  "pygments_lexer": "ipython3",
  "version": "3.6.4"
 },
 "metadata": {
  "kernelspec": {
   "display_name": "Python 3",
   "language": "python",
   "name": "python3"
  },
  "language_info": {
   "codemirror_mode": {
    "name": "ipython",
    "version": 3
   },
   "file_extension": ".py",
   "mimetype": "text/x-python",
   "name": "python",
   "nbconvert_exporter": "python",
   "pygments_lexer": "ipython3",
   "version": "3.10.12"
  },
  "papermill": {
   "default_parameters": {},
   "duration": 13.401076,
   "end_time": "2023-09-08T15:38:38.306641",
   "environment_variables": {},
   "exception": null,
   "input_path": "__notebook__.ipynb",
   "output_path": "__notebook__.ipynb",
   "parameters": {},
   "start_time": "2023-09-08T15:38:24.905565",
   "version": "2.4.0"
  }
 },
 "nbformat": 4,
 "nbformat_minor": 5
}
